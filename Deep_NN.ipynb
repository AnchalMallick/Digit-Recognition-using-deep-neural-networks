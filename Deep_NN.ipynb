{
 "cells": [
  {
   "cell_type": "markdown",
   "metadata": {},
   "source": [
    "## Handwritten Digit Recognition Using Neural Network"
   ]
  },
  {
   "cell_type": "markdown",
   "metadata": {},
   "source": [
    "## Fetching MNIST data"
   ]
  },
  {
   "cell_type": "code",
   "execution_count": 1,
   "metadata": {},
   "outputs": [],
   "source": [
    "import numpy as np\n",
    "from sklearn.datasets import fetch_openml\n",
    "mnist =fetch_openml('mnist_784')"
   ]
  },
  {
   "cell_type": "markdown",
   "metadata": {},
   "source": [
    "## Processing data"
   ]
  },
  {
   "cell_type": "code",
   "execution_count": 2,
   "metadata": {},
   "outputs": [],
   "source": [
    "#setting training set to be the first 20000 examples and test set to be the next 5000 examples\n",
    "X_train,Y_train,X_test,Y_test = mnist['data'][0:20000],mnist['target'][0:20000],mnist['data'][20000:25000],mnist['target'][20000:25000]\n",
    "Y_train,Y_test = Y_train.reshape((20000,1)).astype(np.int8),Y_test.reshape((5000,1)).astype(np.int8)\n",
    "shuffle_idx = np.random.permutation(20000)\n",
    "#shuffling our training set to ensure that it is not sorted\n",
    "X_train,Y_train = X_train[shuffle_idx],Y_train[shuffle_idx]    \n",
    "X_train,X_test,Y_train,Y_test = X_train.T,X_test.T,Y_train.T,Y_test.T\n",
    "\n",
    "Y_tr_oneVSall = np.zeros((10,Y_train.shape[1]))\n",
    "labels = list(range(10))\n",
    "\n",
    "for i in range(Y_train.shape[1]):\n",
    "    for l in labels:\n",
    "        if Y_train[0,i]==l:\n",
    "            Y_tr_oneVSall[l,i]=1"
   ]
  },
  {
   "cell_type": "markdown",
   "metadata": {},
   "source": [
    "## Initializing parameters "
   ]
  },
  {
   "cell_type": "code",
   "execution_count": 3,
   "metadata": {},
   "outputs": [],
   "source": [
    "labels = list(range(10))\n",
    "n_x,n_h1,n_h2,n_y = X_train.shape[0],20,20,10\n",
    "layer_dims = [n_x,n_h1,n_h2,n_y]\n",
    "\n",
    "def initialize_parameters(layer_dims):\n",
    "    parameters = {}\n",
    "    for l in range(1,len(layer_dims)):\n",
    "        parameters['W'+str(l)] = np.random.randn(layer_dims[l],layer_dims[l-1])*0.01\n",
    "        parameters['b'+str(l)] = np.zeros((layer_dims[l],1))\n",
    "    return parameters\n"
   ]
  },
  {
   "cell_type": "markdown",
   "metadata": {},
   "source": [
    "## Setting up activation functions and their primes(here, sigmoid and relu)"
   ]
  },
  {
   "cell_type": "code",
   "execution_count": 4,
   "metadata": {},
   "outputs": [],
   "source": [
    "def sigmoid(z):\n",
    "    return 1/(1+np.exp(-z))\n",
    "\n",
    "def relu(z):\n",
    "    return np.maximum(0,z)\n",
    "\n",
    "def sigmoid_prime(z):\n",
    "    return sigmoid(z)*(1-sigmoid(z))\n",
    "\n",
    "def relu_prime(z):\n",
    "    relu = np.zeros(z.shape)\n",
    "    for i in range(z.shape[0]):\n",
    "        for j in range(z.shape[1]):\n",
    "            if z[i][j]<0:\n",
    "                relu[i][j] = 0\n",
    "            elif z[i][j]>=0:\n",
    "                relu[i][j] = 1\n",
    "    return relu\n",
    "    "
   ]
  },
  {
   "cell_type": "markdown",
   "metadata": {},
   "source": [
    "## Forward propagation module"
   ]
  },
  {
   "cell_type": "code",
   "execution_count": 5,
   "metadata": {},
   "outputs": [],
   "source": [
    "def forward_step(A_prev,W,b):\n",
    "    Z = np.dot(W,A_prev) + b\n",
    "    cache = (A_prev,W,b)\n",
    "    return Z,cache \n",
    "\n",
    "\n",
    "def forward_activation(A_prev,W,b,activation):  \n",
    "    if activation==\"sigmoid\":\n",
    "        Z,linear_cache = forward_step(A_prev,W,b)\n",
    "        A,activation_cache = sigmoid(Z),(Z)\n",
    "    elif activation==\"relu\":\n",
    "        Z,linear_cache = forward_step(A_prev,W,b)\n",
    "        A,activation_cache = relu(Z),(Z)\n",
    "    cache = (linear_cache,activation_cache)\n",
    "    return A,cache\n",
    "        \n",
    "    \n",
    "def forward_propagation(X,parameters):\n",
    "    caches_list = []\n",
    "    L = len(parameters)//2\n",
    "    A = X\n",
    "    for l in range(1,L+1):\n",
    "        W = parameters['W'+str(l)]\n",
    "        b = parameters['b'+str(l)]\n",
    "        if l == L:\n",
    "            A_prev = A\n",
    "            activation = \"sigmoid\"\n",
    "            AL,cache = forward_activation(A_prev,W,b,activation)\n",
    "            caches_list.append(cache)\n",
    "        else:\n",
    "            A_prev = A\n",
    "            activation = \"relu\"\n",
    "            A,cache = forward_activation(A_prev,W,b,activation)\n",
    "            caches_list.append(cache)\n",
    "        \n",
    "    return AL,caches_list\n",
    "    "
   ]
  },
  {
   "cell_type": "markdown",
   "metadata": {},
   "source": [
    "## Computing cost"
   ]
  },
  {
   "cell_type": "code",
   "execution_count": 6,
   "metadata": {},
   "outputs": [],
   "source": [
    "def compute_cost(AL,Y_tr_oneVSall):\n",
    "    m = AL.shape[1]\n",
    "    cost = np.sum((-1/m)*np.sum(np.multiply(Y_tr_oneVSall,np.log(AL)) + np.multiply(1-Y_tr_oneVSall,np.log(1-AL))))\n",
    "    return cost"
   ]
  },
  {
   "cell_type": "markdown",
   "metadata": {},
   "source": [
    "## Backward propagation module"
   ]
  },
  {
   "cell_type": "code",
   "execution_count": 7,
   "metadata": {},
   "outputs": [],
   "source": [
    "def backward_step(dZ,cache):\n",
    "    m = dZ.shape[1]\n",
    "    A_prev,W,b = cache\n",
    "    dW = (1/m)*np.dot(dZ,A_prev.T)\n",
    "    db = (1/m)*np.sum(dZ,axis=1,keepdims=True)\n",
    "    dA_prev = np.dot(W.T,dZ)\n",
    "    \n",
    "    return dA_prev,dW,db\n",
    "\n",
    "\n",
    "def backward_activation(dA,cache,activation):\n",
    "    \n",
    "    linear_cache,activation_cache = cache\n",
    "    Z = activation_cache\n",
    "    \n",
    "    if activation == \"sigmoid\":\n",
    "        dZ = np.multiply(dA,sigmoid_prime(Z))\n",
    "        dA_prev,dW,db = backward_step(dZ,linear_cache)\n",
    "    elif activation == \"relu\":\n",
    "        dZ = np.multiply(dA,relu_prime(Z))\n",
    "        dA_prev,dW,db = backward_step(dZ,linear_cache)\n",
    "    return dA_prev,dW,db\n",
    "\n",
    "\n",
    "def backward_propagation(AL,Y_tr_oneVSall,caches):\n",
    "    L = len(caches)\n",
    "    grads = {}\n",
    "    dAL = -np.divide(Y_tr_oneVSall,AL) + np.divide(1-Y_tr_oneVSall,1-AL)\n",
    "    cache = caches[-1]\n",
    "    dA_prev,dW,db = backward_activation(dAL,cache,activation=\"sigmoid\")\n",
    "    grads['dA'+str(L-1)],grads['dW'+str(L)],grads['db'+str(L)] = dA_prev,dW,db\n",
    "    for l in reversed(range(L-1)):\n",
    "        cache = caches[l] \n",
    "        dA_prev,dW,db = backward_activation(grads['dA'+str(l+1)],cache,activation=\"relu\") \n",
    "        grads['dA'+str(l)],grads['dW'+str(l+1)],grads['db'+str(l+1)] = dA_prev,dW,db\n",
    "    return grads\n",
    "    \n",
    "    "
   ]
  },
  {
   "cell_type": "markdown",
   "metadata": {},
   "source": [
    "## Updating parameters"
   ]
  },
  {
   "cell_type": "code",
   "execution_count": 8,
   "metadata": {},
   "outputs": [],
   "source": [
    "def update_parameters(parameters,grads,learning_rate):\n",
    "\n",
    "    L = len(parameters)//2\n",
    "    for l in range(L):\n",
    "        parameters['W'+str(l+1)] = parameters['W'+str(l+1)] - learning_rate*grads['dW'+str(l+1)] \n",
    "        parameters['b'+str(l+1)] = parameters['b'+str(l+1)] - learning_rate*grads['db'+str(l+1)]\n",
    "    return parameters\n"
   ]
  },
  {
   "cell_type": "markdown",
   "metadata": {},
   "source": [
    "## L-layer Neural network model"
   ]
  },
  {
   "cell_type": "code",
   "execution_count": 18,
   "metadata": {},
   "outputs": [],
   "source": [
    "\n",
    "import matplotlib.pyplot as plt\n",
    "\n",
    "def L_layer_model(X_train,Y_train,learning_rate=0.005,num_iterations=0):\n",
    "    costs = []\n",
    "    parameters = initialize_parameters(layer_dims)\n",
    "    for iter in range(num_iterations):\n",
    "        AL,caches_list = forward_propagation(X_train,parameters)\n",
    "        cost = compute_cost(AL,Y_tr_oneVSall)\n",
    "        grads = backward_propagation(AL,Y_tr_oneVSall,caches_list)\n",
    "        parameters = update_parameters(parameters,grads,learning_rate)\n",
    "        if iter%100==0:\n",
    "            costs.append(cost)\n",
    "            print(\"Iter\",iter,\": cost=\",cost)\n",
    "    print(\"minimized cost:\",cost)\n",
    "    plt.plot(np.squeeze(costs))\n",
    "    plt.ylabel('Cost')\n",
    "    plt.xlabel('Iterations(per hundred)')\n",
    "    plt.title('Learning rate:'+str(learning_rate))\n",
    "    plt.show()\n",
    "    \n",
    "    return parameters\n",
    "        "
   ]
  },
  {
   "cell_type": "markdown",
   "metadata": {},
   "source": [
    "## Training our model"
   ]
  },
  {
   "cell_type": "code",
   "execution_count": 19,
   "metadata": {},
   "outputs": [
    {
     "name": "stdout",
     "output_type": "stream",
     "text": [
      "Iter 0 : cost= 6.939589005676566\n",
      "Iter 100 : cost= 1.807733104498957\n",
      "Iter 200 : cost= 1.0239690786930464\n",
      "Iter 300 : cost= 0.7149130137363441\n",
      "Iter 400 : cost= 0.5887711297519455\n",
      "Iter 500 : cost= 0.5145572315769947\n",
      "Iter 600 : cost= 0.45638518181763543\n",
      "Iter 700 : cost= 0.4106113131247697\n",
      "Iter 800 : cost= 0.3761719387825063\n",
      "Iter 900 : cost= 0.3487549443556903\n",
      "Iter 1000 : cost= 0.3253333565446612\n",
      "Iter 1100 : cost= 0.3062526180173792\n",
      "Iter 1200 : cost= 0.2887552114778112\n",
      "Iter 1300 : cost= 0.2739157705136935\n",
      "Iter 1400 : cost= 0.26085933367679626\n",
      "Iter 1500 : cost= 0.24871997522562367\n",
      "Iter 1600 : cost= 0.24169337101181645\n",
      "Iter 1700 : cost= 0.23953492155760184\n",
      "Iter 1800 : cost= 0.22760082194214756\n",
      "Iter 1900 : cost= 0.21613882376459806\n",
      "minimized cost: 0.2069490552277647\n"
     ]
    },
    {
     "data": {
      "image/png": "[encoded data removed]",
      "text/plain": [
       "<Figure size 432x288 with 1 Axes>"
      ]
     },
     "metadata": {
      "needs_background": "light"
     },
     "output_type": "display_data"
    }
   ],
   "source": [
    "parameters = L_layer_model(X_train,Y_train,learning_rate=0.005,num_iterations=2000)"
   ]
  },
  {
   "cell_type": "markdown",
   "metadata": {},
   "source": [
    "## Function to display an example"
   ]
  },
  {
   "cell_type": "code",
   "execution_count": 20,
   "metadata": {},
   "outputs": [],
   "source": [
    "import matplotlib\n",
    "import random\n",
    "\n",
    "def disp_example(my_list,X,Y_pred):\n",
    "    i = random.choice(my_list)\n",
    "    sample_digit = X[:,i]\n",
    "    digit_img = sample_digit.reshape(28,28)\n",
    "    prediction = Y_pred[:,i]\n",
    "    print(\"Our model predicts it to be\",Y_pred[0,i])\n",
    "    plt.imshow(digit_img,cmap=matplotlib.cm.binary,interpolation=\"nearest\")\n",
    "    \n",
    "\n",
    "def right_example(Y_pred,Y,X):\n",
    "    right = []\n",
    "    for i in range(Y.shape[1]):\n",
    "        if Y[0,i]==Y_pred[0,i]:\n",
    "            right.append(i)\n",
    "    print(\"An example of correct prediction:\")\n",
    "    disp_example(right,X,Y_pred)\n",
    "    \n",
    "def wrong_example(Y_pred,Y,X):\n",
    "    wrong = []\n",
    "    for i in range(Y.shape[1]):\n",
    "        if Y[0,i]!=Y_pred[0,i]:\n",
    "            wrong.append(i)\n",
    "    print(\"An example of incorrect prediction:\")\n",
    "    disp_example(wrong,X,Y_pred)\n",
    "        \n",
    "\n",
    "    \n",
    "    \n",
    "    "
   ]
  },
  {
   "cell_type": "markdown",
   "metadata": {},
   "source": [
    "## Accuracy on the training set"
   ]
  },
  {
   "cell_type": "code",
   "execution_count": 21,
   "metadata": {},
   "outputs": [
    {
     "name": "stdout",
     "output_type": "stream",
     "text": [
      "Training Set\n",
      "No. of values predicted correctly: 19441 out of  20000\n",
      "Accuracy: 97.205 %\n",
      "An example:\n"
     ]
    }
   ],
   "source": [
    "import matplotlib\n",
    "def predict(X,Y,parameters):\n",
    "    \n",
    "    AL,caches_list = forward_propagation(X,parameters)\n",
    "    Y_pred = np.argmax(AL,axis=0)\n",
    "    Y_pred = Y_pred.reshape(Y.shape)\n",
    "    right_pred = np.sum(Y_pred==Y)\n",
    "    print(\"No. of values predicted correctly:\",right_pred,\"out of \",Y.shape[1])\n",
    "    accuracy = (right_pred/Y.shape[1])*100\n",
    "    return accuracy,Y_pred\n",
    "\n",
    "\n",
    "print(\"Training Set\")    \n",
    "accuracy,Y_train_pred = predict(X_train,Y_train,parameters)\n",
    "print(\"Accuracy:\",accuracy,\"%\")\n",
    "print(\"An example:\")\n",
    "#examples(Y_train_pred,Y_train,X_train)\n"
   ]
  },
  {
   "cell_type": "markdown",
   "metadata": {},
   "source": [
    "## Accuracy on the test set"
   ]
  },
  {
   "cell_type": "code",
   "execution_count": 23,
   "metadata": {},
   "outputs": [
    {
     "name": "stdout",
     "output_type": "stream",
     "text": [
      "Test Set\n",
      "No. of values predicted correctly: 4699 out of  5000\n",
      "Accuracy: 93.97999999999999 %\n"
     ]
    }
   ],
   "source": [
    "print(\"Test Set\")\n",
    "accuracy,Y_test_pred = predict(X_test,Y_test,parameters)\n",
    "print(\"Accuracy:\",accuracy,\"%\")"
   ]
  },
  {
   "cell_type": "markdown",
   "metadata": {},
   "source": [
    "## An example of right prediction"
   ]
  },
  {
   "cell_type": "code",
   "execution_count": 25,
   "metadata": {},
   "outputs": [
    {
     "name": "stdout",
     "output_type": "stream",
     "text": [
      "An example of correct prediction:\n",
      "Our model predicts it to be 9\n"
     ]
    },
    {
     "data": {
      "image/png": "[encoded data removed]",
      "text/plain": [
       "<Figure size 432x288 with 1 Axes>"
      ]
     },
     "metadata": {
      "needs_background": "light"
     },
     "output_type": "display_data"
    }
   ],
   "source": [
    "right_example(Y_test_pred,Y_test,X_test)"
   ]
  },
  {
   "cell_type": "markdown",
   "metadata": {},
   "source": [
    "## An example of wrong prediction"
   ]
  },
  {
   "cell_type": "code",
   "execution_count": 26,
   "metadata": {},
   "outputs": [
    {
     "name": "stdout",
     "output_type": "stream",
     "text": [
      "An example of incorrect prediction:\n",
      "Our model predicts it to be 5\n"
     ]
    },
    {
     "data": {
      "image/png": "[encoded data removed]",
      "text/plain": [
       "<Figure size 432x288 with 1 Axes>"
      ]
     },
     "metadata": {
      "needs_background": "light"
     },
     "output_type": "display_data"
    }
   ],
   "source": [
    "wrong_example(Y_test_pred,Y_test,X_test)"
   ]
  },
  {
   "cell_type": "code",
   "execution_count": null,
   "metadata": {},
   "outputs": [],
   "source": []
  },
  {
   "cell_type": "code",
   "execution_count": null,
   "metadata": {},
   "outputs": [],
   "source": []
  },
  {
   "cell_type": "code",
   "execution_count": null,
   "metadata": {},
   "outputs": [],
   "source": []
  },
  {
   "cell_type": "code",
   "execution_count": null,
   "metadata": {},
   "outputs": [],
   "source": []
  },
  {
   "cell_type": "code",
   "execution_count": null,
   "metadata": {},
   "outputs": [],
   "source": []
  },
  {
   "cell_type": "code",
   "execution_count": null,
   "metadata": {},
   "outputs": [],
   "source": []
  },
  {
   "cell_type": "code",
   "execution_count": null,
   "metadata": {},
   "outputs": [],
   "source": []
  },
  {
   "cell_type": "code",
   "execution_count": null,
   "metadata": {},
   "outputs": [],
   "source": []
  }
 ],
 "metadata": {
  "kernelspec": {
   "display_name": "Python 3",
   "language": "python",
   "name": "python3"
  },
  "language_info": {
   "codemirror_mode": {
    "name": "ipython",
    "version": 3
   },
   "file_extension": ".py",
   "mimetype": "text/x-python",
   "name": "python",
   "nbconvert_exporter": "python",
   "pygments_lexer": "ipython3",
   "version": "3.7.3"
  }
 },
 "nbformat": 4,
 "nbformat_minor": 4
}
